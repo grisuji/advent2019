{
 "cells": [
  {
   "cell_type": "code",
   "execution_count": 7,
   "metadata": {},
   "outputs": [
    {
     "data": {
      "text/plain": [
       "654"
      ]
     },
     "execution_count": 7,
     "metadata": {},
     "output_type": "execute_result"
    }
   ],
   "source": [
    "def read_mass(filename):\n",
    "    with open(filename,'r') as f:\n",
    "        masses = [ int(l.strip()) for l in f]\n",
    "    return masses\n",
    "            \n",
    "def calc_fuel(mass):\n",
    "    return int(mass/3)-2\n",
    "calc_fuel(1969)"
   ]
  },
  {
   "cell_type": "code",
   "execution_count": 8,
   "metadata": {},
   "outputs": [
    {
     "data": {
      "text/plain": [
       "3337766"
      ]
     },
     "execution_count": 8,
     "metadata": {},
     "output_type": "execute_result"
    }
   ],
   "source": [
    "mass = read_mass(\"i.txt\")\n",
    "fuel = [calc_fuel(m) for m in mass]\n",
    "sum(fuel)"
   ]
  },
  {
   "cell_type": "code",
   "execution_count": 18,
   "metadata": {},
   "outputs": [],
   "source": [
    "def calc_fuel2(mass):\n",
    "    total = 0\n",
    "    last = mass\n",
    "    for _ in range(1_000_000):\n",
    "        last = calc_fuel(last)\n",
    "        if last <= 0:\n",
    "            break\n",
    "        total += last\n",
    "    else:\n",
    "        print(\"error\")\n",
    "    return total"
   ]
  },
  {
   "cell_type": "code",
   "execution_count": 19,
   "metadata": {},
   "outputs": [
    {
     "data": {
      "text/plain": [
       "5003788"
      ]
     },
     "execution_count": 19,
     "metadata": {},
     "output_type": "execute_result"
    }
   ],
   "source": [
    "fuel = [calc_fuel2(m) for m in mass]\n",
    "sum(fuel)"
   ]
  },
  {
   "cell_type": "code",
   "execution_count": null,
   "metadata": {},
   "outputs": [],
   "source": []
  }
 ],
 "metadata": {
  "kernelspec": {
   "display_name": "Python 3",
   "language": "python",
   "name": "python3"
  },
  "language_info": {
   "codemirror_mode": {
    "name": "ipython",
    "version": 3
   },
   "file_extension": ".py",
   "mimetype": "text/x-python",
   "name": "python",
   "nbconvert_exporter": "python",
   "pygments_lexer": "ipython3",
   "version": "3.7.7"
  }
 },
 "nbformat": 4,
 "nbformat_minor": 4
}
