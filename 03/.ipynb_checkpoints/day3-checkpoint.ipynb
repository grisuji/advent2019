{
 "cells": [
  {
   "cell_type": "code",
   "execution_count": 1,
   "metadata": {},
   "outputs": [
    {
     "data": {
      "text/plain": [
       "[['R75', 'D30', 'R83', 'U83', 'L12', 'D49', 'R71', 'U7', 'L72'],\n",
       " ['U62', 'R66', 'U55', 'R34', 'D71', 'R55', 'D58', 'R83']]"
      ]
     },
     "execution_count": 1,
     "metadata": {},
     "output_type": "execute_result"
    }
   ],
   "source": [
    "def read_way(filename):\n",
    "    r = []\n",
    "    with open(filename,'r') as f:\n",
    "        for l in f:\n",
    "            r.append(l.strip().split(','))\n",
    "    return r\n",
    "read_way(\"t.txt\")"
   ]
  },
  {
   "cell_type": "code",
   "execution_count": 2,
   "metadata": {},
   "outputs": [],
   "source": [
    "t3=read_way(\"t.txt\")\n",
    "i3=read_way(\"i.txt\")"
   ]
  },
  {
   "cell_type": "code",
   "execution_count": 28,
   "metadata": {},
   "outputs": [],
   "source": [
    "def points(route):\n",
    "    p = set()\n",
    "    i, j = 0,0\n",
    "    for d in route:\n",
    "        dd = d[0]\n",
    "        ll = int(d[1:])\n",
    "        for ii in range(ll):\n",
    "            if dd == \"U\":\n",
    "                i += 1\n",
    "            elif dd == \"R\":\n",
    "                j +=1\n",
    "            elif dd == \"L\":\n",
    "                j -= 1\n",
    "            elif dd == \"D\":\n",
    "                i -= 1\n",
    "            else:\n",
    "                print(\"error\")\n",
    "            p.add((i,j))\n",
    "    return p\n",
    "\n",
    "def steps(route, p):\n",
    "    i, j = 0,0\n",
    "    s = 0\n",
    "    for d in route:\n",
    "        dd = d[0]\n",
    "        ll = int(d[1:])\n",
    "        for ii in range(ll):\n",
    "            if dd == \"U\":\n",
    "                i += 1\n",
    "            elif dd == \"R\":\n",
    "                j +=1\n",
    "            elif dd == \"L\":\n",
    "                j -= 1\n",
    "            elif dd == \"D\":\n",
    "                i -= 1\n",
    "            else:\n",
    "                print(\"error\")    \n",
    "            s += 1\n",
    "            if (i,j) == p:\n",
    "                return s\n",
    "    print(\"error\")\n",
    "        \n",
    "def dist(routes):\n",
    "    cross = points(routes[0]) & points(routes[1])\n",
    "    m = 1_000_000\n",
    "    for c in cross:\n",
    "        m = min(m, abs(c[0])+abs(c[1]))\n",
    "    return m\n",
    "\n",
    "def count_steps(routes):\n",
    "    cross = points(routes[0]) & points(routes[1])\n",
    "    s = 1_000_000\n",
    "    for c in cross:\n",
    "        s = min(s, steps(routes[0],c) + steps(routes[1],c))   \n",
    "    return s\n",
    "    "
   ]
  },
  {
   "cell_type": "code",
   "execution_count": 29,
   "metadata": {},
   "outputs": [
    {
     "data": {
      "text/plain": [
       "308"
      ]
     },
     "execution_count": 29,
     "metadata": {},
     "output_type": "execute_result"
    }
   ],
   "source": [
    "dist(i3)"
   ]
  },
  {
   "cell_type": "code",
   "execution_count": 30,
   "metadata": {},
   "outputs": [
    {
     "data": {
      "text/plain": [
       "12934"
      ]
     },
     "execution_count": 30,
     "metadata": {},
     "output_type": "execute_result"
    }
   ],
   "source": [
    "count_steps(i3)"
   ]
  },
  {
   "cell_type": "code",
   "execution_count": null,
   "metadata": {},
   "outputs": [],
   "source": []
  }
 ],
 "metadata": {
  "kernelspec": {
   "display_name": "Python 3",
   "language": "python",
   "name": "python3"
  },
  "language_info": {
   "codemirror_mode": {
    "name": "ipython",
    "version": 3
   },
   "file_extension": ".py",
   "mimetype": "text/x-python",
   "name": "python",
   "nbconvert_exporter": "python",
   "pygments_lexer": "ipython3",
   "version": "3.8.0"
  }
 },
 "nbformat": 4,
 "nbformat_minor": 4
}
