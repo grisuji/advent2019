{
 "cells": [
  {
   "cell_type": "code",
   "execution_count": 246,
   "metadata": {},
   "outputs": [],
   "source": [
    "\n",
    "def read_code(file):\n",
    "    with open(file, 'r') as f:\n",
    "        for l in f:\n",
    "            ll = l.strip().split(',')\n",
    "    return [int(v) for v in ll]\n",
    "i7=read_code(\"i.txt\") \n",
    "a=\"3,15,3,16,1002,16,10,16,1,16,15,15,4,15,99,0,0\"\n",
    "b=\"3,23,3,24,1002,24,10,24,1002,23,-1,23,101,5,23,23,1,24,23,23,4,23,99,0,0\"\n",
    "\n",
    "def mk_code(s):\n",
    "    return [ int(v) for v in s.split(',')]\n",
    "\n",
    "def permutation(lst):\n",
    "    l=len(lst)\n",
    "    if l == 1:\n",
    "        yield lst\n",
    "    for i,e in enumerate(lst):\n",
    "        for rest in permutation(lst[:i]+lst[i+1:]):\n",
    "            yield [e] + rest\n",
    "\n"
   ]
  },
  {
   "cell_type": "code",
   "execution_count": 276,
   "metadata": {},
   "outputs": [],
   "source": [
    "class amp:\n",
    "    def __init__(self, code, phase):\n",
    "        self.mem = code[:]\n",
    "        self.i = 0\n",
    "        self.phase = phase\n",
    "        self.loop = 0\n",
    "        self.cin = []\n",
    "        \n",
    "    def get(self, mode, offset):\n",
    "        if mode == 1:\n",
    "            return self.mem[self.i+offset]\n",
    "        return self.mem[self.mem[self.i+offset]]\n",
    "\n",
    "    def cmd(self, verbose=False):\n",
    "        c = \"0000\"+str(self.mem[self.i])\n",
    "        c = c[-5:]\n",
    "        A, B, C, DE = int(c[0]), int(c[1]), int(c[2]), int(c[3:5])\n",
    "        cout = 0\n",
    "        A=1\n",
    "        if DE in [1,2]:      \n",
    "            v1 = self.get(C, 1)\n",
    "            v2 = self.get(B, 2)\n",
    "            target = self.get(1, 3)\n",
    "            if verbose:\n",
    "                print(\"run {} with {} {} -> {}\".format(DE, v1, v2, target))\n",
    "            self.mem[target] = v1+v2 if DE == 1 else v1*v2\n",
    "            self.i += 4\n",
    "        elif DE in [3,4]: # op, v\n",
    "            target = self.get(1, 1)\n",
    "            if verbose:\n",
    "                print(\"run {} with {}\".format(DE, target))\n",
    "            if DE == 3:\n",
    "                if len(self.cin) > 1:\n",
    "                    v = self.cin.pop()\n",
    "                else:\n",
    "                    v = self.cin[0]\n",
    "                self.mem[target] = v\n",
    "            else:\n",
    "                cout = self.mem[target]\n",
    "            self.i += 2\n",
    "        elif DE in [5,6]: # op, bool, v\n",
    "            jump = self.get(C, 1) != 0\n",
    "            if (DE == 5 and jump) or (DE == 6 and not jump):\n",
    "                v = self.get(B, 2)\n",
    "                if verbose:\n",
    "                    print(\"run {} with {} -> {}\".format(DE, jump, v))\n",
    "                self.i = v\n",
    "            else:\n",
    "                self.i += 3\n",
    "        elif DE in [7,8]: # op, v1, v2, target\n",
    "            v1 = self.get(C, 1)\n",
    "            v2 = self.get(B, 2)\n",
    "            target = self.get(1, 3)\n",
    "            if verbose:\n",
    "                print(\"run {} with {} {} -> {}\".format(DE, v1, v2, target))\n",
    "            self.mem[target] =  (v1 < v2 if DE == 7 else v1 == v2)*1\n",
    "            self.i += 4\n",
    "        else:\n",
    "            print(self.mem[self.i])\n",
    "        return cout\n",
    "\n",
    "    def finish(self):\n",
    "        return self.mem[self.i] == 99\n",
    "    \n",
    "    def run(self, cin, verbose=False):\n",
    "        self.loop += 1\n",
    "        self.cin = [cin, self.phase] if self.loop == 1 else [cin]\n",
    "        #self.i = 0\n",
    "        res = 0\n",
    "        cout = -1\n",
    "        while not self.finish():\n",
    "            cout = self.cmd(verbose)\n",
    "            if cout:\n",
    "                break\n",
    "        return cout\n",
    "\n",
    "def thruster(code, phase_seq, loop=1):\n",
    "    cin = 0 \n",
    "    amps = [amp(code, phase) for phase in phase_seq ]\n",
    "    res = 0\n",
    "    for l in range(loop):\n",
    "        for a in amps:\n",
    "            #print(a.phase)\n",
    "            cout = a.run(cin)\n",
    "            cin = cout\n",
    "            if cout > 0:\n",
    "                res = cout\n",
    "            elif cout< 0:\n",
    "                break\n",
    "#        if amps[-1].finish():\n",
    "#            return res\n",
    "    return res\n"
   ]
  },
  {
   "cell_type": "code",
   "execution_count": 277,
   "metadata": {},
   "outputs": [
    {
     "name": "stdout",
     "output_type": "stream",
     "text": [
      "part 1: 24625\n"
     ]
    }
   ],
   "source": [
    "m = 0\n",
    "for p in permutation([*range(5)]):\n",
    "    m = max(m, thruster(i7, p))\n",
    "print(\"part 1: {}\".format(m))"
   ]
  },
  {
   "cell_type": "code",
   "execution_count": 284,
   "metadata": {},
   "outputs": [
    {
     "name": "stdout",
     "output_type": "stream",
     "text": [
      "part 2: 36497698\n"
     ]
    }
   ],
   "source": [
    "m = 0\n",
    "for p in permutation([5,6,7,8,9]):\n",
    "    #print(p)\n",
    "    m = max(m, thruster(i7, p, loop=11))\n",
    "print(\"part 2: {}\".format(m))"
   ]
  },
  {
   "cell_type": "code",
   "execution_count": null,
   "metadata": {},
   "outputs": [],
   "source": []
  }
 ],
 "metadata": {
  "kernelspec": {
   "display_name": "Python 3",
   "language": "python",
   "name": "python3"
  },
  "language_info": {
   "codemirror_mode": {
    "name": "ipython",
    "version": 3
   },
   "file_extension": ".py",
   "mimetype": "text/x-python",
   "name": "python",
   "nbconvert_exporter": "python",
   "pygments_lexer": "ipython3",
   "version": "3.8.0"
  }
 },
 "nbformat": 4,
 "nbformat_minor": 4
}
