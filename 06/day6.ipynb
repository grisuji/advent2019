{
 "cells": [
  {
   "cell_type": "code",
   "execution_count": 50,
   "metadata": {},
   "outputs": [],
   "source": [
    "def read_map(file):\n",
    "    map = []\n",
    "    with open(file, 'r') as f:\n",
    "        map = [l.strip().split(')') for l in f]\n",
    "    return map\n",
    "t6=read_map(\"t.txt\")\n",
    "tt6=read_map(\"tt.txt\")\n",
    "i6=read_map(\"i.txt\")     "
   ]
  },
  {
   "cell_type": "code",
   "execution_count": 67,
   "metadata": {},
   "outputs": [],
   "source": [
    "class orbit:\n",
    "    def __init__(self, name):\n",
    "        self.name = name\n",
    "        self.childs = []\n",
    "        self.parent = None\n",
    "        self.direct = 0\n",
    "        self.indirect = 0\n",
    "        self.total = 0\n",
    "        self.parents = set() \n",
    "    \n",
    "    def add(self, child):\n",
    "        if child not in self.childs:\n",
    "            child.parent = self\n",
    "            child.parents.add(self)\n",
    "            self.childs.append(child)\n",
    "            \n",
    "    def get(self):\n",
    "        return self.childs\n",
    "    \n",
    "    def count(self):\n",
    "        if self.parent is None:\n",
    "            return 0\n",
    "        if self.direct > 0:\n",
    "            return self.indirect + self.direct\n",
    "        self.direct = 1\n",
    "        self.indirect = self.parent.count()\n",
    "        self.total = self.indirect + self.direct\n",
    "        self.parents |= self.parent.parents\n",
    "        return self.indirect + self.direct\n",
    "    "
   ]
  },
  {
   "cell_type": "code",
   "execution_count": 86,
   "metadata": {},
   "outputs": [],
   "source": [
    "def build(_map):\n",
    "    mem = {}\n",
    "    for left, right in _map:\n",
    "        if left in mem:\n",
    "            lo = mem[left]\n",
    "        else:\n",
    "            lo = orbit(left)\n",
    "            mem[left] = lo\n",
    "        if right in mem:\n",
    "            ro = mem[right]\n",
    "        else:\n",
    "            ro = orbit(right)\n",
    "            mem[right] = ro\n",
    "        lo.add(ro)\n",
    "    return mem\n",
    "\n",
    "def count(mem):\n",
    "    total = 0\n",
    "    for o,c in mem.items():\n",
    "        total += c.count()\n",
    "    return total\n",
    "\n",
    "def dist(o1, o2):\n",
    "    inter = o1.parents & o2.parents\n",
    "    m = 0\n",
    "    for x in inter:\n",
    "        if x.total > m:\n",
    "            nearest = x\n",
    "            m = x.total\n",
    "    #print(nearest.total)\n",
    "    return (o1.total - nearest.total) + (o2.total - nearest.total) -2"
   ]
  },
  {
   "cell_type": "code",
   "execution_count": 87,
   "metadata": {},
   "outputs": [
    {
     "name": "stdout",
     "output_type": "stream",
     "text": [
      "part1: 273985\n",
      "part2: 460\n"
     ]
    }
   ],
   "source": [
    "mem = build(i6)\n",
    "print(\"part1: {}\".format(count(mem)))\n",
    "print(\"part2: {}\".format(dist(mem[\"YOU\"], mem[\"SAN\"])))\n"
   ]
  },
  {
   "cell_type": "code",
   "execution_count": null,
   "metadata": {},
   "outputs": [],
   "source": []
  }
 ],
 "metadata": {
  "kernelspec": {
   "display_name": "Python 3",
   "language": "python",
   "name": "python3"
  },
  "language_info": {
   "codemirror_mode": {
    "name": "ipython",
    "version": 3
   },
   "file_extension": ".py",
   "mimetype": "text/x-python",
   "name": "python",
   "nbconvert_exporter": "python",
   "pygments_lexer": "ipython3",
   "version": "3.8.0"
  }
 },
 "nbformat": 4,
 "nbformat_minor": 4
}
