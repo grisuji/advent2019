{
 "cells": [
  {
   "cell_type": "code",
   "execution_count": 162,
   "metadata": {},
   "outputs": [],
   "source": [
    "def read_code(file):\n",
    "    with open(file, 'r') as f:\n",
    "        for l in f:\n",
    "            ll = l.strip().split(',')\n",
    "    return [int(v) for v in ll]\n",
    "i5=read_code(\"i.txt\") \n",
    "tt5=read_code(\"t.txt\") \n",
    "\n",
    "a=\"3,9,8,9,10,9,4,9,99,-1,8\"\n",
    "b=\"3,9,7,9,10,9,4,9,99,-1,8\"\n",
    "c=\"3,3,1108,-1,8,3,4,3,99\"\n",
    "d=\"3,3,1107,-1,8,3,4,3,99\"\n",
    "e=\"3,12,6,12,15,1,13,14,13,4,13,99,-1,0,1,9\"\n",
    "f=\"3,3,1105,-1,9,1101,0,0,12,4,12,99,1\"\n",
    "g=\"3,21,1008,21,8,20,1005,20,22,107,8,21,20,1006,20,31,1106,0,36,98,0,0,1002,21,125,20,4,20,1105,1,46,104,999,1105,1,46,1101,1000,1,20,4,20,1105,1,46,98,99\"\n",
    "t5=[ int(v) for v in \"1002,4,3,4,33\".split(',')]\n"
   ]
  },
  {
   "cell_type": "code",
   "execution_count": 177,
   "metadata": {},
   "outputs": [],
   "source": [
    "def get(code, mode, i):\n",
    "    if mode == 1:\n",
    "        return code[i]\n",
    "    return code[code[i]]\n",
    "\n",
    "def cmd(code, i, cin):\n",
    "    if code[i] == 99:\n",
    "        return i+1, 0\n",
    "    c = \"0000\"+str(code[i])\n",
    "    c = c[-5:]\n",
    "    A, B, C, DE = int(c[0]), int(c[1]), int(c[2]), int(c[3:5])\n",
    "    #print(\"{} {} {}\".format(code[i+1],code[i+2], code[i+3]))\n",
    "    A = 1\n",
    "    cout = 0\n",
    "    #print(c)\n",
    "    if DE in [1,2]:\n",
    "        new_i = i+4\n",
    "        v1 = get(code,C, i+1)\n",
    "        v2 = get(code,B, i+2)\n",
    "        target = get(code,A, i+3)\n",
    "        #print(\"{} {} {}\".format(v1, v2, target))\n",
    "        code[target] = v1+v2 if DE == 1 else v1*v2\n",
    "    elif DE in [3,4]:\n",
    "        new_i = i+2\n",
    "        if DE == 3:\n",
    "            target = get(code,C,i+1)\n",
    "            #print(code[i+1])\n",
    "            code[code[i+1]] = cin\n",
    "        else:\n",
    "            #print(code[i+1])\n",
    "            cout = code[code[i+1]]\n",
    "    elif DE in [5,6]:\n",
    "        new_i = i+3\n",
    "        jump = get(code, C, i+1) != 0\n",
    "        if (DE == 5 and jump) or (DE == 6 and not jump):\n",
    "            new_i = get(code, B, i+2)\n",
    "    elif DE in [7,8]:\n",
    "        new_i = i+4\n",
    "        v1 = get(code,C, i+1)\n",
    "        v2 = get(code,B, i+2)\n",
    "        target = get(code,A, i+3)\n",
    "        #print(\"{} {} {}\".format(v1, v2, target))\n",
    "        code[target] =  (v1 < v2 if DE == 7 else v1 == v2)*1\n",
    "    else:\n",
    "        print(code[i])\n",
    "    return new_i, cout\n",
    "\n",
    "def run(code, cin):\n",
    "    _code = code[:]\n",
    "    cout = 0\n",
    "    i = 0\n",
    "    for _ in range(1_000_000):\n",
    "        i, c = cmd(_code, i, cin)\n",
    "        if c != 0:\n",
    "            return c\n",
    "        \n",
    "    return cout#, _code\n"
   ]
  },
  {
   "cell_type": "code",
   "execution_count": 178,
   "metadata": {},
   "outputs": [
    {
     "data": {
      "text/plain": [
       "11460760"
      ]
     },
     "execution_count": 178,
     "metadata": {},
     "output_type": "execute_result"
    }
   ],
   "source": [
    "run(i5, 5)"
   ]
  },
  {
   "cell_type": "code",
   "execution_count": null,
   "metadata": {},
   "outputs": [],
   "source": []
  }
 ],
 "metadata": {
  "kernelspec": {
   "display_name": "Python 3",
   "language": "python",
   "name": "python3"
  },
  "language_info": {
   "codemirror_mode": {
    "name": "ipython",
    "version": 3
   },
   "file_extension": ".py",
   "mimetype": "text/x-python",
   "name": "python",
   "nbconvert_exporter": "python",
   "pygments_lexer": "ipython3",
   "version": "3.8.0"
  }
 },
 "nbformat": 4,
 "nbformat_minor": 4
}
