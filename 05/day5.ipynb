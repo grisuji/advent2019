{
 "cells": [
  {
   "cell_type": "code",
   "execution_count": 2,
   "metadata": {},
   "outputs": [],
   "source": [
    "def read_code(file):\n",
    "    with open(file, 'r') as f:\n",
    "        for l in f:\n",
    "            ll = l.strip().split(',')\n",
    "    return [int(v) for v in ll]\n",
    "i5=read_code(\"i.txt\") \n",
    "tt5=read_code(\"t.txt\") \n",
    "\n",
    "a=\"3,9,8,9,10,9,4,9,99,-1,8\"\n",
    "b=\"3,9,7,9,10,9,4,9,99,-1,8\"\n",
    "c=\"3,3,1108,-1,8,3,4,3,99\"\n",
    "d=\"3,3,1107,-1,8,3,4,3,99\"\n",
    "e=\"3,12,6,12,15,1,13,14,13,4,13,99,-1,0,1,9\"\n",
    "f=\"3,3,1105,-1,9,1101,0,0,12,4,12,99,1\"\n",
    "g=\"3,21,1008,21,8,20,1005,20,22,107,8,21,20,1006,20,31,1106,0,36,98,0,0,1002,21,125,20,4,20,1105,1,46,104,999,1105,1,46,1101,1000,1,20,4,20,1105,1,46,98,99\"\n",
    "t5=[ int(v) for v in \"1002,4,3,4,33\".split(',')]\n",
    "h=\"3,21,1008,21,8,20,1005,20,22,107,8,21,20,1006,20,31,1106,0,36,98,0,0,1002,21,125,20,4,20,1105,1,46,104,999,1105,1,46,1101,1000,1,20,4,20,1105,1,46,98,99\"\n",
    "\n",
    "def mk_code(s):\n",
    "    return [ int(v) for v in s.split(',')]"
   ]
  },
  {
   "cell_type": "code",
   "execution_count": 3,
   "metadata": {},
   "outputs": [],
   "source": [
    "def get(mem, mode, i):\n",
    "    if mode == 1:\n",
    "        return mem[i]\n",
    "    return mem[mem[i]]\n",
    "\n",
    "def cmd(mem, i, cin, verbose=False):\n",
    "    c = \"0000\"+str(mem[i])\n",
    "    c = c[-5:]\n",
    "    A, B, C, DE = int(c[0]), int(c[1]), int(c[2]), int(c[3:5])\n",
    "    cout = 0\n",
    "    A=1\n",
    "    if DE in [1,2]:\n",
    "        new_i = i+4 # op,v1, v2, target\n",
    "        v1 = get(mem,C, i+1)\n",
    "        v2 = get(mem,B, i+2)\n",
    "        target = get(mem, 1, i+3)\n",
    "        if verbose:\n",
    "            print(\"run {} with {} {} -> {}\".format(DE, v1, v2, target))\n",
    "        mem[target] = v1+v2 if DE == 1 else v1*v2\n",
    "    elif DE in [3,4]: # op, v\n",
    "        new_i = i+2\n",
    "        target = get(mem, 1, i+1)\n",
    "        if verbose:\n",
    "            print(\"run {} with {}\".format(DE, target))\n",
    "        if DE == 3:\n",
    "            mem[target] = cin[0]\n",
    "            cin = cin[1:]\n",
    "        else:\n",
    "            cout = mem[target]\n",
    "    elif DE in [5,6]: # op, bool, v\n",
    "        new_i = i+3\n",
    "        jump = get(mem, C, i+1) != 0\n",
    "        if (DE == 5 and jump) or (DE == 6 and not jump):\n",
    "            v = get(mem, B, i+2)\n",
    "            if verbose:\n",
    "                print(\"run {} with {} -> {}\".format(DE, jump, v))\n",
    "            new_i = v\n",
    "    elif DE in [7,8]: # op, v1, v2, target\n",
    "        new_i = i+4\n",
    "        v1 = get(mem,C, i+1)\n",
    "        v2 = get(mem,B, i+2)\n",
    "        target = get(mem, A, i+3)\n",
    "        if verbose:\n",
    "            print(\"run {} with {} {} -> {}\".format(DE, v1, v2, target))\n",
    "        mem[target] =  (v1 < v2 if DE == 7 else v1 == v2)*1\n",
    "    else:\n",
    "        print(mem[i])\n",
    "    return mem, new_i, cout\n",
    "\n",
    "def run(mem, cin):\n",
    "    _code = mem[:]\n",
    "    i = 0\n",
    "    while _code[i] != 99:\n",
    "        _code, i, c = cmd(_code, i, cin, True)\n",
    "        if c != 0:\n",
    "            return c\n",
    "    return 0\n"
   ]
  },
  {
   "cell_type": "code",
   "execution_count": 4,
   "metadata": {},
   "outputs": [
    {
     "name": "stdout",
     "output_type": "stream",
     "text": [
      "run 3 with 225\n",
      "run 1 with 5 1100 -> 6\n",
      "run 5 with True -> 238\n",
      "run 5 with True -> 247\n",
      "run 5 with True -> 256\n",
      "run 6 with False -> 265\n",
      "run 6 with False -> 274\n",
      "run 5 with True -> 280\n",
      "run 1 with 5 5 -> 225\n",
      "run 1 with 294 0 -> 0\n",
      "run 5 with True -> 294\n",
      "run 6 with False -> 300\n",
      "run 1 with 10 10 -> 225\n",
      "run 1 with 314 0 -> 0\n",
      "run 6 with False -> 314\n",
      "run 7 with 677 677 -> 224\n",
      "run 2 with 2 0 -> 223\n",
      "run 1 with 1 0 -> 223\n",
      "run 8 with 677 677 -> 224\n",
      "run 2 with 2 1 -> 223\n",
      "run 5 with True -> 344\n",
      "run 8 with 226 677 -> 224\n",
      "run 2 with 2 2 -> 223\n",
      "run 1 with 4 1 -> 223\n",
      "run 8 with 226 677 -> 224\n",
      "run 2 with 2 5 -> 223\n",
      "run 6 with False -> 374\n",
      "run 7 with 226 677 -> 224\n",
      "run 2 with 2 10 -> 223\n",
      "run 1 with 1 20 -> 223\n",
      "run 8 with 677 226 -> 224\n",
      "run 2 with 21 2 -> 223\n",
      "run 1 with 42 1 -> 223\n",
      "run 8 with 677 226 -> 224\n",
      "run 2 with 2 43 -> 223\n",
      "run 1 with 1 86 -> 223\n",
      "run 7 with 677 226 -> 224\n",
      "run 2 with 87 2 -> 223\n",
      "run 6 with False -> 434\n",
      "run 7 with 226 226 -> 224\n",
      "run 2 with 2 174 -> 223\n",
      "run 1 with 1 348 -> 223\n",
      "run 8 with 677 677 -> 224\n",
      "run 2 with 349 2 -> 223\n",
      "run 1 with 1 698 -> 223\n",
      "run 7 with 226 677 -> 224\n",
      "run 2 with 2 699 -> 223\n",
      "run 1 with 1 1398 -> 223\n",
      "run 7 with 226 677 -> 224\n",
      "run 2 with 1399 2 -> 223\n",
      "run 5 with True -> 494\n",
      "run 8 with 677 226 -> 224\n",
      "run 2 with 2 2798 -> 223\n",
      "run 6 with False -> 509\n",
      "run 7 with 677 226 -> 224\n",
      "run 2 with 2 5596 -> 223\n",
      "run 6 with False -> 524\n",
      "run 8 with 677 677 -> 224\n",
      "run 2 with 11192 2 -> 223\n",
      "run 5 with True -> 539\n",
      "run 7 with 226 226 -> 224\n",
      "run 2 with 2 22384 -> 223\n",
      "run 6 with False -> 554\n",
      "run 7 with 677 226 -> 224\n",
      "run 2 with 44768 2 -> 223\n",
      "run 1 with 89536 1 -> 223\n",
      "run 8 with 677 226 -> 224\n",
      "run 2 with 89537 2 -> 223\n",
      "run 6 with False -> 584\n",
      "run 8 with 226 677 -> 224\n",
      "run 2 with 179074 2 -> 223\n",
      "run 6 with False -> 599\n",
      "run 7 with 677 226 -> 224\n",
      "run 2 with 358148 2 -> 223\n",
      "run 1 with 716296 1 -> 223\n",
      "run 7 with 226 677 -> 224\n",
      "run 2 with 2 716297 -> 223\n",
      "run 1 with 1432594 1 -> 223\n",
      "run 8 with 677 677 -> 224\n",
      "run 2 with 2 1432595 -> 223\n",
      "run 5 with True -> 644\n",
      "run 7 with 226 226 -> 224\n",
      "run 2 with 2 2865190 -> 223\n",
      "run 6 with False -> 659\n",
      "run 8 with 226 677 -> 224\n",
      "run 2 with 2 5730380 -> 223\n",
      "run 6 with False -> 674\n",
      "run 4 with 223\n"
     ]
    },
    {
     "data": {
      "text/plain": [
       "11460760"
      ]
     },
     "execution_count": 4,
     "metadata": {},
     "output_type": "execute_result"
    }
   ],
   "source": [
    "run(i5, 5)"
   ]
  },
  {
   "cell_type": "code",
   "execution_count": 6,
   "metadata": {},
   "outputs": [
    {
     "name": "stdout",
     "output_type": "stream",
     "text": [
      "test equal in position mode\n",
      "run 3 with 9\n",
      "run 8 with 7 8 -> 9\n",
      "run 4 with 9\n",
      "run 3 with 9\n",
      "run 8 with 8 8 -> 9\n",
      "run 4 with 9\n",
      "test less in position mode\n",
      "run 3 with 9\n",
      "run 7 with 6 8 -> 9\n",
      "run 4 with 9\n",
      "run 3 with 9\n",
      "run 7 with 9 8 -> 9\n",
      "run 4 with 9\n",
      "test equal in immediate mode\n",
      "run 3 with 3\n",
      "run 8 with 7 8 -> 3\n",
      "run 4 with 3\n",
      "run 3 with 3\n",
      "run 8 with 8 8 -> 3\n",
      "run 4 with 3\n",
      "test less in immediate mode\n",
      "run 3 with 3\n",
      "run 7 with 6 8 -> 3\n",
      "run 4 with 3\n",
      "run 3 with 3\n",
      "run 7 with 9 8 -> 3\n",
      "run 4 with 3\n",
      "test jump in position mode\n",
      "run 3 with 12\n",
      "run 6 with False -> 9\n",
      "run 4 with 13\n",
      "run 3 with 12\n",
      "run 1 with 0 1 -> 13\n",
      "run 4 with 13\n",
      "test jump in immediate mode\n",
      "run 3 with 3\n",
      "run 1 with 0 0 -> 12\n",
      "run 4 with 12\n",
      "run 3 with 3\n",
      "run 5 with True -> 9\n",
      "run 4 with 12\n",
      "test bigger example\n",
      "run 3 with 21\n",
      "run 8 with 7 8 -> 20\n",
      "run 7 with 8 7 -> 20\n",
      "run 6 with False -> 31\n",
      "run 4 with 999\n"
     ]
    },
    {
     "ename": "IndexError",
     "evalue": "list index out of range",
     "output_type": "error",
     "traceback": [
      "\u001b[0;31m---------------------------------------------------------------------------\u001b[0m",
      "\u001b[0;31mIndexError\u001b[0m                                Traceback (most recent call last)",
      "\u001b[0;32m<ipython-input-6-51c6c99e2342>\u001b[0m in \u001b[0;36m<module>\u001b[0;34m\u001b[0m\n\u001b[1;32m     18\u001b[0m \u001b[0;32massert\u001b[0m \u001b[0mrun\u001b[0m\u001b[0;34m(\u001b[0m\u001b[0mmk_code\u001b[0m\u001b[0;34m(\u001b[0m\u001b[0mf\u001b[0m\u001b[0;34m)\u001b[0m\u001b[0;34m,\u001b[0m\u001b[0;36m8\u001b[0m\u001b[0;34m)\u001b[0m \u001b[0;34m==\u001b[0m \u001b[0;36m1\u001b[0m\u001b[0;34m\u001b[0m\u001b[0;34m\u001b[0m\u001b[0m\n\u001b[1;32m     19\u001b[0m \u001b[0mprint\u001b[0m\u001b[0;34m(\u001b[0m\u001b[0;34m\"test bigger example\"\u001b[0m\u001b[0;34m)\u001b[0m\u001b[0;34m\u001b[0m\u001b[0;34m\u001b[0m\u001b[0m\n\u001b[0;32m---> 20\u001b[0;31m \u001b[0;32massert\u001b[0m \u001b[0mrun\u001b[0m\u001b[0;34m(\u001b[0m\u001b[0mmk_code\u001b[0m\u001b[0;34m(\u001b[0m\u001b[0mg\u001b[0m\u001b[0;34m)\u001b[0m\u001b[0;34m,\u001b[0m\u001b[0;36m7\u001b[0m\u001b[0;34m)\u001b[0m \u001b[0;34m==\u001b[0m \u001b[0;36m999\u001b[0m\u001b[0;34m\u001b[0m\u001b[0;34m\u001b[0m\u001b[0m\n\u001b[0m\u001b[1;32m     21\u001b[0m \u001b[0;32massert\u001b[0m \u001b[0mrun\u001b[0m\u001b[0;34m(\u001b[0m\u001b[0mmk_code\u001b[0m\u001b[0;34m(\u001b[0m\u001b[0mg\u001b[0m\u001b[0;34m)\u001b[0m\u001b[0;34m,\u001b[0m\u001b[0;36m8\u001b[0m\u001b[0;34m)\u001b[0m \u001b[0;34m==\u001b[0m \u001b[0;36m1000\u001b[0m\u001b[0;34m\u001b[0m\u001b[0;34m\u001b[0m\u001b[0m\n\u001b[1;32m     22\u001b[0m \u001b[0;32massert\u001b[0m \u001b[0mrun\u001b[0m\u001b[0;34m(\u001b[0m\u001b[0mmk_code\u001b[0m\u001b[0;34m(\u001b[0m\u001b[0mg\u001b[0m\u001b[0;34m)\u001b[0m\u001b[0;34m,\u001b[0m\u001b[0;36m9\u001b[0m\u001b[0;34m)\u001b[0m \u001b[0;34m==\u001b[0m \u001b[0;36m1001\u001b[0m\u001b[0;34m\u001b[0m\u001b[0;34m\u001b[0m\u001b[0m\n",
      "\u001b[0;32m<ipython-input-3-786740539aba>\u001b[0m in \u001b[0;36mrun\u001b[0;34m(mem, cin)\u001b[0m\n\u001b[1;32m     51\u001b[0m     \u001b[0mi\u001b[0m \u001b[0;34m=\u001b[0m \u001b[0;36m0\u001b[0m\u001b[0;34m\u001b[0m\u001b[0;34m\u001b[0m\u001b[0m\n\u001b[1;32m     52\u001b[0m     \u001b[0;32mwhile\u001b[0m \u001b[0m_code\u001b[0m\u001b[0;34m[\u001b[0m\u001b[0mi\u001b[0m\u001b[0;34m]\u001b[0m \u001b[0;34m!=\u001b[0m \u001b[0;36m99\u001b[0m\u001b[0;34m:\u001b[0m\u001b[0;34m\u001b[0m\u001b[0;34m\u001b[0m\u001b[0m\n\u001b[0;32m---> 53\u001b[0;31m         \u001b[0m_code\u001b[0m\u001b[0;34m,\u001b[0m \u001b[0mi\u001b[0m\u001b[0;34m,\u001b[0m \u001b[0mc\u001b[0m \u001b[0;34m=\u001b[0m \u001b[0mcmd\u001b[0m\u001b[0;34m(\u001b[0m\u001b[0m_code\u001b[0m\u001b[0;34m,\u001b[0m \u001b[0mi\u001b[0m\u001b[0;34m,\u001b[0m \u001b[0mcin\u001b[0m\u001b[0;34m,\u001b[0m \u001b[0;32mTrue\u001b[0m\u001b[0;34m)\u001b[0m\u001b[0;34m\u001b[0m\u001b[0;34m\u001b[0m\u001b[0m\n\u001b[0m\u001b[1;32m     54\u001b[0m         \u001b[0;32mif\u001b[0m \u001b[0mc\u001b[0m \u001b[0;34m!=\u001b[0m \u001b[0;36m0\u001b[0m\u001b[0;34m:\u001b[0m\u001b[0;34m\u001b[0m\u001b[0;34m\u001b[0m\u001b[0m\n\u001b[1;32m     55\u001b[0m             \u001b[0;32mreturn\u001b[0m \u001b[0mc\u001b[0m\u001b[0;34m\u001b[0m\u001b[0;34m\u001b[0m\u001b[0m\n",
      "\u001b[0;32m<ipython-input-3-786740539aba>\u001b[0m in \u001b[0;36mcmd\u001b[0;34m(mem, i, cin, verbose)\u001b[0m\n\u001b[1;32m     26\u001b[0m             \u001b[0mmem\u001b[0m\u001b[0;34m[\u001b[0m\u001b[0mtarget\u001b[0m\u001b[0;34m]\u001b[0m \u001b[0;34m=\u001b[0m \u001b[0mcin\u001b[0m\u001b[0;34m\u001b[0m\u001b[0;34m\u001b[0m\u001b[0m\n\u001b[1;32m     27\u001b[0m         \u001b[0;32melse\u001b[0m\u001b[0;34m:\u001b[0m\u001b[0;34m\u001b[0m\u001b[0;34m\u001b[0m\u001b[0m\n\u001b[0;32m---> 28\u001b[0;31m             \u001b[0mcout\u001b[0m \u001b[0;34m=\u001b[0m \u001b[0mmem\u001b[0m\u001b[0;34m[\u001b[0m\u001b[0mtarget\u001b[0m\u001b[0;34m]\u001b[0m\u001b[0;34m\u001b[0m\u001b[0;34m\u001b[0m\u001b[0m\n\u001b[0m\u001b[1;32m     29\u001b[0m     \u001b[0;32melif\u001b[0m \u001b[0mDE\u001b[0m \u001b[0;32min\u001b[0m \u001b[0;34m[\u001b[0m\u001b[0;36m5\u001b[0m\u001b[0;34m,\u001b[0m\u001b[0;36m6\u001b[0m\u001b[0;34m]\u001b[0m\u001b[0;34m:\u001b[0m \u001b[0;31m# op, bool, v\u001b[0m\u001b[0;34m\u001b[0m\u001b[0;34m\u001b[0m\u001b[0m\n\u001b[1;32m     30\u001b[0m         \u001b[0mnew_i\u001b[0m \u001b[0;34m=\u001b[0m \u001b[0mi\u001b[0m\u001b[0;34m+\u001b[0m\u001b[0;36m3\u001b[0m\u001b[0;34m\u001b[0m\u001b[0;34m\u001b[0m\u001b[0m\n",
      "\u001b[0;31mIndexError\u001b[0m: list index out of range"
     ]
    }
   ],
   "source": [
    "print(\"test equal in position mode\")\n",
    "assert run(mk_code(a),7) == 0\n",
    "assert run(mk_code(a),8) == 1\n",
    "print(\"test less in position mode\")\n",
    "assert run(mk_code(b),6) == 1\n",
    "assert run(mk_code(b),9) == 0\n",
    "print(\"test equal in immediate mode\")\n",
    "assert run(mk_code(c),7) == 0\n",
    "assert run(mk_code(c),8) == 1\n",
    "print(\"test less in immediate mode\")\n",
    "assert run(mk_code(d),6) == 1\n",
    "assert run(mk_code(d),9) == 0\n",
    "print(\"test jump in position mode\")\n",
    "assert run(mk_code(e),0) == 0\n",
    "assert run(mk_code(e),9) == 1\n",
    "print(\"test jump in immediate mode\")\n",
    "assert run(mk_code(f),0) == 0\n",
    "assert run(mk_code(f),8) == 1\n",
    "print(\"test bigger example\")\n",
    "#assert run(mk_code(g),7) == 999\n",
    "assert run(mk_code(g),8) == 1000\n",
    "assert run(mk_code(g),9) == 1001\n",
    "\n"
   ]
  },
  {
   "cell_type": "code",
   "execution_count": 70,
   "metadata": {},
   "outputs": [
    {
     "ename": "AssertionError",
     "evalue": "",
     "output_type": "error",
     "traceback": [
      "\u001b[0;31m---------------------------------------------------------------------------\u001b[0m",
      "\u001b[0;31mAssertionError\u001b[0m                            Traceback (most recent call last)",
      "\u001b[0;32m<ipython-input-70-c123aef74f73>\u001b[0m in \u001b[0;36m<module>\u001b[0;34m\u001b[0m\n\u001b[0;32m----> 1\u001b[0;31m \u001b[0;32massert\u001b[0m \u001b[0mrun\u001b[0m\u001b[0;34m(\u001b[0m\u001b[0mmk_code\u001b[0m\u001b[0;34m(\u001b[0m\u001b[0ma\u001b[0m\u001b[0;34m)\u001b[0m\u001b[0;34m,\u001b[0m\u001b[0;36m8\u001b[0m\u001b[0;34m)\u001b[0m \u001b[0;34m==\u001b[0m \u001b[0;36m1\u001b[0m\u001b[0;34m\u001b[0m\u001b[0;34m\u001b[0m\u001b[0m\n\u001b[0m",
      "\u001b[0;31mAssertionError\u001b[0m: "
     ]
    }
   ],
   "source": [
    "assert run(mk_code(a),8) == 1"
   ]
  },
  {
   "cell_type": "code",
   "execution_count": 31,
   "metadata": {},
   "outputs": [
    {
     "data": {
      "text/plain": [
       "678"
      ]
     },
     "execution_count": 31,
     "metadata": {},
     "output_type": "execute_result"
    }
   ],
   "source": [
    "len(i5)"
   ]
  },
  {
   "cell_type": "code",
   "execution_count": null,
   "metadata": {},
   "outputs": [],
   "source": []
  }
 ],
 "metadata": {
  "kernelspec": {
   "display_name": "Python 3",
   "language": "python",
   "name": "python3"
  },
  "language_info": {
   "codemirror_mode": {
    "name": "ipython",
    "version": 3
   },
   "file_extension": ".py",
   "mimetype": "text/x-python",
   "name": "python",
   "nbconvert_exporter": "python",
   "pygments_lexer": "ipython3",
   "version": "3.8.0"
  }
 },
 "nbformat": 4,
 "nbformat_minor": 4
}
