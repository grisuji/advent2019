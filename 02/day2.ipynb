{
 "cells": [
  {
   "cell_type": "code",
   "execution_count": 19,
   "metadata": {},
   "outputs": [],
   "source": [
    "def read_code(filename):\n",
    "    res = []\n",
    "    with open(filename,'r') as f:\n",
    "        for l in f:\n",
    "            ll = l.strip()\n",
    "            res=ll.split(\",\")\n",
    "            \n",
    "    return list(map(int,res))\n",
    "i2=read_code(\"i.txt\")\n",
    "t2=list(map(int,\"1,9,10,3,2,3,11,0,99,30,40,50\".split(',')))\n"
   ]
  },
  {
   "cell_type": "code",
   "execution_count": 18,
   "metadata": {},
   "outputs": [
    {
     "data": {
      "text/plain": [
       "[1, 9, 10, 19, 2, 3, 11, 33, 99, 30, 40, 50]"
      ]
     },
     "execution_count": 18,
     "metadata": {},
     "output_type": "execute_result"
    }
   ],
   "source": [
    "t2"
   ]
  },
  {
   "cell_type": "code",
   "execution_count": 21,
   "metadata": {},
   "outputs": [
    {
     "data": {
      "text/plain": [
       "[3500, 9, 10, 70, 2, 3, 11, 0, 99, 30, 40, 50]"
      ]
     },
     "execution_count": 21,
     "metadata": {},
     "output_type": "execute_result"
    }
   ],
   "source": [
    "def run(code_in):\n",
    "    code = code_in[:]\n",
    "    res = 0\n",
    "    i = 0\n",
    "    while True:\n",
    "        cmd = code[i]\n",
    "        if cmd == 99:\n",
    "            break\n",
    "        a = code[i+1]\n",
    "        b = code[i+2]\n",
    "        c = code[i+3]\n",
    "        if cmd == 1:\n",
    "            code[c] = code[a]+code[b]\n",
    "        if cmd == 2:\n",
    "            code[c] = code[a]*code[b]\n",
    "        i += 4\n",
    "    return code\n",
    "run(t2)"
   ]
  },
  {
   "cell_type": "markdown",
   "metadata": {},
   "source": [
    "# Part2"
   ]
  },
  {
   "cell_type": "code",
   "execution_count": 28,
   "metadata": {},
   "outputs": [
    {
     "name": "stdout",
     "output_type": "stream",
     "text": [
      "100*41+12 = 4112\n"
     ]
    }
   ],
   "source": [
    "for noun in range(100):\n",
    "    for verb in range(100):\n",
    "        i2[1] = noun\n",
    "        i2[2] = verb\n",
    "        res = run(i2)\n",
    "        if res[0] == 19690720:\n",
    "            print(\"100*{}+{} = {}\".format(noun, verb, 100*noun+verb))\n",
    "            break"
   ]
  },
  {
   "cell_type": "markdown",
   "metadata": {},
   "source": [
    "# Part1"
   ]
  },
  {
   "cell_type": "code",
   "execution_count": 27,
   "metadata": {},
   "outputs": [
    {
     "data": {
      "text/plain": [
       "6327510"
      ]
     },
     "execution_count": 27,
     "metadata": {},
     "output_type": "execute_result"
    }
   ],
   "source": [
    "i2[1] = 12\n",
    "i2[2] = 2\n",
    "run(i2)[0]"
   ]
  },
  {
   "cell_type": "code",
   "execution_count": null,
   "metadata": {},
   "outputs": [],
   "source": []
  }
 ],
 "metadata": {
  "kernelspec": {
   "display_name": "Python 3",
   "language": "python",
   "name": "python3"
  },
  "language_info": {
   "codemirror_mode": {
    "name": "ipython",
    "version": 3
   },
   "file_extension": ".py",
   "mimetype": "text/x-python",
   "name": "python",
   "nbconvert_exporter": "python",
   "pygments_lexer": "ipython3",
   "version": "3.8.0"
  }
 },
 "nbformat": 4,
 "nbformat_minor": 4
}
