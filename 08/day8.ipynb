{
 "cells": [
  {
   "cell_type": "code",
   "execution_count": 23,
   "metadata": {},
   "outputs": [],
   "source": [
    "def read_image(file, w, h):\n",
    "    rows = []\n",
    "    with open(file, 'r') as f:\n",
    "        for l in f:\n",
    "            ll = l.strip()\n",
    "            rows = [ll[i:i+w] for i in range(0,len(ll),w)]\n",
    "    layers = [ rows[i:i+h] for i in range(0, len(rows), h)]\n",
    "    return layers\n",
    "t8=read_image(\"t.txt\", 3, 2)\n",
    "tt8=read_image(\"tt.txt\", 2, 2)\n",
    "i8=read_image(\"i.txt\", 25, 6)"
   ]
  },
  {
   "cell_type": "code",
   "execution_count": 42,
   "metadata": {},
   "outputs": [],
   "source": [
    "def count(layer, c):\n",
    "    return sum([row.count(c) for row in layer])\n",
    "\n",
    "def part1(image):\n",
    "    m,n = len(image[0])+1, None\n",
    "    for layer in image:\n",
    "        c = count(layer, '0')\n",
    "        if  c < m:\n",
    "            m, n = c, layer\n",
    "    return count(n, '1') * count(n, '2')\n",
    "\n",
    "def stack(layer1, layer2):\n",
    "    result = []\n",
    "    for l1, l2 in zip(layer1, layer2):\n",
    "        l = list(l1)\n",
    "        for i, pixel in enumerate(l1):\n",
    "            if pixel == \"2\":\n",
    "                l[i] = l2[i]\n",
    "        result.append(\"\".join(l))\n",
    "    return result\n",
    "\n",
    "def part2(image):\n",
    "    result = None\n",
    "    for layer in image:\n",
    "        if result is None:\n",
    "            result = layer\n",
    "        else:\n",
    "            result = stack(result, layer)\n",
    "    for row in result:\n",
    "        print(row.replace(\"0\",\" \"))"
   ]
  },
  {
   "cell_type": "code",
   "execution_count": 40,
   "metadata": {},
   "outputs": [
    {
     "data": {
      "text/plain": [
       "2048"
      ]
     },
     "execution_count": 40,
     "metadata": {},
     "output_type": "execute_result"
    }
   ],
   "source": [
    "part1(i8)"
   ]
  },
  {
   "cell_type": "code",
   "execution_count": 43,
   "metadata": {},
   "outputs": [
    {
     "name": "stdout",
     "output_type": "stream",
     "text": [
      "1  1 1111 1   1 11  1  1 \n",
      "1  1 1    1   11  1 1 1  \n",
      "1111 111   1 1 1  1 11   \n",
      "1  1 1      1  1111 1 1  \n",
      "1  1 1      1  1  1 1 1  \n",
      "1  1 1      1  1  1 1  1 \n"
     ]
    }
   ],
   "source": [
    "part2(i8)"
   ]
  },
  {
   "cell_type": "code",
   "execution_count": null,
   "metadata": {},
   "outputs": [],
   "source": []
  }
 ],
 "metadata": {
  "kernelspec": {
   "display_name": "Python 3",
   "language": "python",
   "name": "python3"
  },
  "language_info": {
   "codemirror_mode": {
    "name": "ipython",
    "version": 3
   },
   "file_extension": ".py",
   "mimetype": "text/x-python",
   "name": "python",
   "nbconvert_exporter": "python",
   "pygments_lexer": "ipython3",
   "version": "3.8.0"
  }
 },
 "nbformat": 4,
 "nbformat_minor": 4
}
