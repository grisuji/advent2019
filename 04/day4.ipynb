{
 "cells": [
  {
   "cell_type": "code",
   "execution_count": 1,
   "metadata": {},
   "outputs": [],
   "source": [
    "i4=\"138241-674034\"\n",
    "def valid(n):\n",
    "    s = str(n)\n",
    "    if len(s) != 6:\n",
    "        return False\n",
    "    last = \"0\"\n",
    "    dbl = False\n",
    "    for d in s:\n",
    "        if d < last:\n",
    "            return False\n",
    "        if d == last:\n",
    "            dbl = True\n",
    "        last = d\n",
    "    return dbl"
   ]
  },
  {
   "cell_type": "code",
   "execution_count": 5,
   "metadata": {},
   "outputs": [
    {
     "data": {
      "text/plain": [
       "1890"
      ]
     },
     "execution_count": 5,
     "metadata": {},
     "output_type": "execute_result"
    }
   ],
   "source": [
    "sum([valid(n) for n in range(138241, 674034+1)])"
   ]
  },
  {
   "cell_type": "code",
   "execution_count": 16,
   "metadata": {},
   "outputs": [],
   "source": [
    "def valid2(n):\n",
    "    s = str(n)\n",
    "    if len(s) != 6:\n",
    "        return False\n",
    "    last = \"0\"\n",
    "    dbl = {}\n",
    "    for d in s:\n",
    "        if d < last:\n",
    "            return False\n",
    "        dbl[d] = dbl.get(d,0) +1\n",
    "        last = d\n",
    "    return 2 in list(dbl.values())"
   ]
  },
  {
   "cell_type": "code",
   "execution_count": 17,
   "metadata": {},
   "outputs": [
    {
     "data": {
      "text/plain": [
       "1277"
      ]
     },
     "execution_count": 17,
     "metadata": {},
     "output_type": "execute_result"
    }
   ],
   "source": [
    "sum([valid2(n) for n in range(138241, 674034+1)])"
   ]
  }
 ],
 "metadata": {
  "kernelspec": {
   "display_name": "Python 3",
   "language": "python",
   "name": "python3"
  },
  "language_info": {
   "codemirror_mode": {
    "name": "ipython",
    "version": 3
   },
   "file_extension": ".py",
   "mimetype": "text/x-python",
   "name": "python",
   "nbconvert_exporter": "python",
   "pygments_lexer": "ipython3",
   "version": "3.8.0"
  }
 },
 "nbformat": 4,
 "nbformat_minor": 4
}
